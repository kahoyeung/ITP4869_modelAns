{
 "cells": [
  {
   "cell_type": "markdown",
   "metadata": {},
   "source": [
    "# 4869\n",
    "## Lab 4"
   ]
  },
  {
   "cell_type": "code",
   "execution_count": 1,
   "metadata": {},
   "outputs": [
    {
     "name": "stdout",
     "output_type": "stream",
     "text": [
      "The number of permutations of taking four letters from the word 'python' is 360\n"
     ]
    }
   ],
   "source": [
    "# Task 1 - Compute the number of permutations of n objects taken r at a time.\n",
    "import math\n",
    "\n",
    "def nPr(n, r):\n",
    "    f = math.factorial\n",
    "    return f(n) // f(n - r)\n",
    "\n",
    "print(\"The number of permutations of taking four letters from the word 'python' is\", nPr(6, 4))"
   ]
  },
  {
   "cell_type": "code",
   "execution_count": 2,
   "metadata": {},
   "outputs": [
    {
     "name": "stdout",
     "output_type": "stream",
     "text": [
      "Enter a day of month: 24\n",
      "Enter a month: 5\n",
      "Enter a year: 2019\n",
      "The weekday of 24-5-2019 is Friday\n"
     ]
    }
   ],
   "source": [
    "# Task 2 - Find the day of the week for any date.\n",
    "wd_names = ['Sunday', 'Monday', 'Tuesday', 'Wednesday', 'Thursday', 'Friday', 'Saturday']\n",
    "\n",
    "def weekday(d, m, y):\n",
    "    m1 = m - 2\n",
    "    yy = y\n",
    "\n",
    "    if m1 < 0:\n",
    "        m1 += 12\n",
    "        yy -= 1\n",
    "\n",
    "    y1 = yy // 100\n",
    "    y2 = yy % 100\n",
    "    f = d + int((13*m1-1)/5) + y2 + int(y2/4) + int(y1/4) - 2*y1\n",
    "    return int(f % 7)\n",
    "\n",
    "d = int(input('Enter a day of month: '))\n",
    "m = int(input('Enter a month: '))\n",
    "y = int(input('Enter a year: '))\n",
    "\n",
    "print('The weekday of %d-%d-%d is %s' % (d, m, y, wd_names[weekday(d,m,y)]))"
   ]
  },
  {
   "cell_type": "code",
   "execution_count": 3,
   "metadata": {},
   "outputs": [],
   "source": [
    "# Task 3 - Compute the count of all words in a string.\n",
    "def countWords(string):\n",
    "    lis = string.split()\n",
    "    return len(lis)"
   ]
  },
  {
   "cell_type": "code",
   "execution_count": 4,
   "metadata": {},
   "outputs": [
    {
     "data": {
      "text/plain": [
       "4"
      ]
     },
     "execution_count": 4,
     "metadata": {},
     "output_type": "execute_result"
    }
   ],
   "source": [
    "countWords('I like Python programming!')"
   ]
  },
  {
   "cell_type": "code",
   "execution_count": 5,
   "metadata": {},
   "outputs": [
    {
     "name": "stdout",
     "output_type": "stream",
     "text": [
      "Outcome Occurrence\n",
      "    3       24\n",
      "    4       65\n",
      "    5      149\n",
      "    6      208\n",
      "    7      396\n",
      "    8      496\n",
      "    9      551\n",
      "   10      632\n",
      "   11      582\n",
      "   12      569\n",
      "   13      470\n",
      "   14      361\n",
      "   15      241\n",
      "   16      141\n",
      "   17       86\n",
      "   18       29\n",
      "\n",
      "Total number of trials is 5000.\n"
     ]
    }
   ],
   "source": [
    "# Task 4 - Simulates the rolling of three dice for 5000 times, \n",
    "#    counts the occurrence of each outcome, and\n",
    "#    prints the results as a two-column table.\n",
    "import random\n",
    "\n",
    "n = 5000\n",
    "results = [0 for x in range(16)]\n",
    "for i in range(n):\n",
    "    roll = random.randint(1,6) + random.randint(1,6) + random.randint(1,6)\n",
    "    results[roll-3] += 1\n",
    "\n",
    "sum = 0\n",
    "print('Outcome', 'Occurrence')\n",
    "for i in range(16):\n",
    "    sum += results[i]\n",
    "    print(\"%5d%9d\" %((i+3), results[i]))\n",
    "\n",
    "print(\"\\nTotal number of trials is %d.\" %(sum))"
   ]
  },
  {
   "cell_type": "code",
   "execution_count": null,
   "metadata": {},
   "outputs": [],
   "source": []
  }
 ],
 "metadata": {
  "kernelspec": {
   "display_name": "Python 3",
   "language": "python",
   "name": "python3"
  },
  "language_info": {
   "codemirror_mode": {
    "name": "ipython",
    "version": 3
   },
   "file_extension": ".py",
   "mimetype": "text/x-python",
   "name": "python",
   "nbconvert_exporter": "python",
   "pygments_lexer": "ipython3",
   "version": "3.7.3"
  }
 },
 "nbformat": 4,
 "nbformat_minor": 2
}
