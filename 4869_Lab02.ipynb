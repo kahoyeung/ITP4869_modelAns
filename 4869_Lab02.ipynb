{
 "cells": [
  {
   "cell_type": "markdown",
   "metadata": {},
   "source": [
    "# ITP4869\n",
    "## Lab 2"
   ]
  },
  {
   "cell_type": "code",
   "execution_count": 2,
   "metadata": {
    "pycharm": {
     "is_executing": false
    }
   },
   "outputs": [
    {
     "name": "stdout",
     "text": [
      "yppah ma iyppah ma iyppah ma iyppah ma iyppah ma iyppah ma iyppah ma iyppah ma iyppah ma iyppah ma i\nyppah ma i\n i\nyp\npah ma i\n"
     ],
     "output_type": "stream"
    }
   ],
   "source": [
    "# Task 2\n",
    "str = \"i am happy\"\n",
    "print(str[::-1]*10)\n",
    "\n"
   ]
  },
  {
   "cell_type": "code",
   "execution_count": 5,
   "metadata": {},
   "outputs": [
    {
     "name": "stdout",
     "output_type": "stream",
     "text": [
      "Enter a string: This is my first lesson on Python\n",
      "['This', 'is', 'my', 'first', 'lesson', 'on', 'Python']\n"
     ]
    }
   ],
   "source": [
    "# Task 3\n",
    "str = input('Enter a string: ')\n",
    "print(str.split())"
   ]
  },
  {
   "cell_type": "code",
   "execution_count": 1,
   "metadata": {},
   "outputs": [
    {
     "name": "stdout",
     "output_type": "stream",
     "text": [
      "Enter a string: 5\n",
      "{5: 25, 6: 36, 7: 49}\n"
     ]
    }
   ],
   "source": [
    "# Task 4\n",
    "n = int(input('Enter a string: '))\n",
    "d = { n: n**2, n+1: (n+1)**2, n+2: (n+2)**2 }\n",
    "print(d)"
   ]
  },
  {
   "cell_type": "code",
   "execution_count": 2,
   "metadata": {},
   "outputs": [
    {
     "name": "stdout",
     "output_type": "stream",
     "text": [
      "{'Jan': 'January', 'Feb': 'February', 'Mar': 'March', 'Apr': 'April', 'May': 'May', 'Jun': 'June'}\n"
     ]
    }
   ],
   "source": [
    "# Task 5\n",
    "m = ['January', 'February', 'March', 'April', 'May', 'June']\n",
    "md = { m[0][:3]: m[0], m[1][:3]: m[1], m[2][:3]: m[2], m[3][:3]: m[3], m[4][:3]: m[4], m[5][:3]: m[5] }\n",
    "print(md)"
   ]
  },
  {
   "cell_type": "code",
   "execution_count": 4,
   "metadata": {},
   "outputs": [
    {
     "name": "stdout",
     "output_type": "stream",
     "text": [
      "Enter a month abbreviation: Jan\n",
      "January\n"
     ]
    }
   ],
   "source": [
    "# Task 6\n",
    "ma = input('Enter a month abbreviation: ')\n",
    "print(md[ma])"
   ]
  },
  {
   "cell_type": "code",
   "execution_count": null,
   "metadata": {
    "collapsed": true
   },
   "outputs": [],
   "source": []
  }
 ],
 "metadata": {
  "kernelspec": {
   "display_name": "Python 3",
   "language": "python",
   "name": "python3"
  },
  "language_info": {
   "codemirror_mode": {
    "name": "ipython",
    "version": 3
   },
   "file_extension": ".py",
   "mimetype": "text/x-python",
   "name": "python",
   "nbconvert_exporter": "python",
   "pygments_lexer": "ipython3",
   "version": "3.7.3"
  },
  "pycharm": {
   "stem_cell": {
    "cell_type": "raw",
    "source": [],
    "metadata": {
     "collapsed": false
    }
   }
  }
 },
 "nbformat": 4,
 "nbformat_minor": 2
}