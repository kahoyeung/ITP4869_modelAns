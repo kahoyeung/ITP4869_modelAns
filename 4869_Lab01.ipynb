{
 "cells": [
  {
   "cell_type": "markdown",
   "metadata": {},
   "source": [
    "# 4869\n",
    "## Lab 1"
   ]
  },
  {
   "cell_type": "code",
   "execution_count": 1,
   "metadata": {},
   "outputs": [
    {
     "name": "stdout",
     "output_type": "stream",
     "text": [
      "Enter a string: Python\n",
      "Python\n"
     ]
    }
   ],
   "source": [
    "# Task 3\n",
    "str = input('Enter a string: ')\n",
    "print(str)"
   ]
  },
  {
   "cell_type": "code",
   "execution_count": 2,
   "metadata": {},
   "outputs": [
    {
     "name": "stdout",
     "output_type": "stream",
     "text": [
      "Enter a weight kg): 62\n",
      "Enter a height (m): 1.6\n",
      "BMI is 24.22\n"
     ]
    }
   ],
   "source": [
    "# Task 4\n",
    "w = float(input('Enter a weight kg): '))\n",
    "h = float(input('Enter a height (m): '))\n",
    "bmi = w / h**2\n",
    "print('BMI is %.2f' %(bmi))"
   ]
  },
  {
   "cell_type": "code",
   "execution_count": 3,
   "metadata": {},
   "outputs": [
    {
     "name": "stdout",
     "output_type": "stream",
     "text": [
      "Enter an integer: 4\n",
      "Enter another integer: 9\n",
      "GCD of 4 and 9 is 36\n"
     ]
    }
   ],
   "source": [
    "# Task 5\n",
    "import math\n",
    "a = int(input('Enter an integer: '))\n",
    "b = int(input('Enter another integer: '))\n",
    "c = a * b / math.gcd(a, b)\n",
    "print('GCD of %d and %d is %d' %(a, b, c))"
   ]
  },
  {
   "cell_type": "code",
   "execution_count": null,
   "metadata": {},
   "outputs": [],
   "source": []
  }
 ],
 "metadata": {
  "kernelspec": {
   "display_name": "Python 3",
   "language": "python",
   "name": "python3"
  },
  "language_info": {
   "codemirror_mode": {
    "name": "ipython",
    "version": 3
   },
   "file_extension": ".py",
   "mimetype": "text/x-python",
   "name": "python",
   "nbconvert_exporter": "python",
   "pygments_lexer": "ipython3",
   "version": "3.7.3"
  }
 },
 "nbformat": 4,
 "nbformat_minor": 2
}
