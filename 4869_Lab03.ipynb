{
 "cells": [
  {
   "cell_type": "markdown",
   "metadata": {},
   "source": [
    "# 4869\n",
    "## Lab 3"
   ]
  },
  {
   "cell_type": "code",
   "execution_count": 1,
   "metadata": {},
   "outputs": [
    {
     "name": "stdout",
     "output_type": "stream",
     "text": [
      "Enter score between 1 and 100: 85\n",
      "Your grade is A\n"
     ]
    }
   ],
   "source": [
    "# Task 1 - Reads a score from the user, assigns letter grades, and print the grade.\n",
    "score = int(input(\"Enter score between 1 and 100: \"))\n",
    "if score < 40:\n",
    "    grade = 'F'\n",
    "elif score < 50:\n",
    "    grade = 'E'\n",
    "elif score < 60:\n",
    "    grade = 'D'\n",
    "elif score < 70:\n",
    "    grade = 'C'\n",
    "elif score < 80:\n",
    "    grade = 'B'\n",
    "else:\n",
    "    grade = 'A'\n",
    "\n",
    "print(\"Your grade is %s\" %(grade))"
   ]
  },
  {
   "cell_type": "code",
   "execution_count": 2,
   "metadata": {},
   "outputs": [],
   "source": [
    "# Task 2\n",
    "import math\n",
    "\n",
    "def nCr(n,r):\n",
    "    f = math.factorial\n",
    "    return int(f(n) / f(r) / f(n-r))"
   ]
  },
  {
   "cell_type": "code",
   "execution_count": 3,
   "metadata": {},
   "outputs": [
    {
     "data": {
      "text/plain": [
       "1"
      ]
     },
     "execution_count": 3,
     "metadata": {},
     "output_type": "execute_result"
    }
   ],
   "source": [
    "nCr(0,0)"
   ]
  },
  {
   "cell_type": "code",
   "execution_count": 4,
   "metadata": {},
   "outputs": [
    {
     "name": "stdout",
     "output_type": "stream",
     "text": [
      "Enter the size of a Pascal's Triangle: 6\n",
      "1 \n",
      "1 1 \n",
      "1 2 1 \n",
      "1 3 3 1 \n",
      "1 4 6 4 1 \n",
      "1 5 10 10 5 1 \n",
      "1 6 15 20 15 6 1 \n"
     ]
    }
   ],
   "source": [
    "# Print Pascal's Triangle\n",
    "n = int(input('Enter the size of a Pascal\\'s Triangle: '))\n",
    "for i in range(0,n+1):\n",
    "    for j in range(0,i+1):\n",
    "        print(nCr(i,j), '', end='')\n",
    "    print()"
   ]
  },
  {
   "cell_type": "code",
   "execution_count": 6,
   "metadata": {},
   "outputs": [
    {
     "name": "stdout",
     "output_type": "stream",
     "text": [
      "*\n",
      "**\n",
      "***\n",
      "****\n",
      "*****\n"
     ]
    }
   ],
   "source": [
    "# Task 3\n",
    "n = 5\n",
    "ch = '*'\n",
    "for i in range(n):\n",
    "    for c in range(i+1):\n",
    "        print(ch, end='')\n",
    "    print()"
   ]
  },
  {
   "cell_type": "code",
   "execution_count": 6,
   "metadata": {},
   "outputs": [
    {
     "name": "stdout",
     "output_type": "stream",
     "text": [
      "*\n",
      "**\n",
      "***\n",
      "****\n",
      "*****\n",
      "****\n",
      "***\n",
      "**\n",
      "*\n"
     ]
    }
   ],
   "source": [
    "n = 5\n",
    "ch = '*'\n",
    "\n",
    "for i in range(n-1):\n",
    "    for c in range(i+1):\n",
    "        print(ch, end='')\n",
    "    print()\n",
    "\n",
    "for m in range(n):\n",
    "    print(ch, end='')\n",
    "print()\n",
    "\n",
    "# Display lower part\n",
    "for j in range(n-1):\n",
    "    for c in range(n-j-1):\n",
    "        print(ch, end='')\n",
    "    print()"
   ]
  },
  {
   "cell_type": "code",
   "execution_count": 7,
   "metadata": {},
   "outputs": [
    {
     "name": "stdout",
     "output_type": "stream",
     "text": [
      "Enter an integer: 5\n",
      "*       *\n",
      "**     **\n",
      "***   ***\n",
      "**** ****\n",
      "*********\n",
      "**** ****\n",
      "***   ***\n",
      "**     **\n",
      "*       *\n"
     ]
    }
   ],
   "source": [
    "# Task 3 (Complete Solution)\n",
    "n = int(input('Enter an integer: '))\n",
    "ch = '*'\n",
    "\n",
    "# Display upper part\n",
    "for i in range(n-1):\n",
    "    for c in range(i+1):\n",
    "        print(ch, end='')\n",
    "    for s in range(2*(n-i-1)-1):\n",
    "        print(' ', end='')\n",
    "    for c in range(i+1):\n",
    "        print(ch, end='')\n",
    "    print()\n",
    "\n",
    "# Display middle line\n",
    "for m in range(2*n-1):\n",
    "    print(ch, end='')\n",
    "print()\n",
    "\n",
    "# Display lower part\n",
    "for j in range(n-1):\n",
    "    for c in range(n-j-1):\n",
    "        print(ch, end='')\n",
    "    for s in range(2*(j+1)-1):\n",
    "        print(' ', end='')\n",
    "    for c in range(n-j-1):\n",
    "        print(ch, end='')\n",
    "    print()"
   ]
  },
  {
   "cell_type": "code",
   "execution_count": null,
   "metadata": {},
   "outputs": [],
   "source": [
    "# Task 3 (Alternate Method)\n",
    "ch = '*'\n",
    "sp = ' '\n",
    "n = int(input('Enter an integer:'))\n",
    "\n",
    "for r in range(n-1):\n",
    "    print(ch*(r+1), end='')\n",
    "    print(sp*(2*(n-r-1)-1), end='')\n",
    "    print(ch*(r+1))\n",
    "\n",
    "print(ch*(2*n-1))\n",
    "\n",
    "for r in range(n-1):\n",
    "    print(ch*(n-r-1), end='')\n",
    "    print(sp*(2*(r+1)-1), end='')\n",
    "    print(ch*(n-r-1))"
   ]
  },
  {
   "cell_type": "code",
   "execution_count": 8,
   "metadata": {},
   "outputs": [
    {
     "name": "stdout",
     "output_type": "stream",
     "text": [
      "Weight  Height    BMI\n",
      "    61    1.61  23.53\n",
      "    61    1.62  23.24\n",
      "    61    1.63  22.96\n",
      "    61    1.64  22.68\n",
      "    61    1.65  22.41\n",
      "    61    1.66  22.14\n",
      "    61    1.67  21.87\n",
      "    61    1.68  21.61\n",
      "    61    1.69  21.36\n",
      "    61    1.70  21.11\n",
      "    62    1.61  23.92\n",
      "    62    1.62  23.62\n",
      "    62    1.63  23.34\n",
      "    62    1.64  23.05\n",
      "    62    1.65  22.77\n",
      "    62    1.66  22.50\n",
      "    62    1.67  22.23\n",
      "    62    1.68  21.97\n",
      "    62    1.69  21.71\n",
      "    62    1.70  21.45\n",
      "    63    1.61  24.30\n",
      "    63    1.62  24.01\n",
      "    63    1.63  23.71\n",
      "    63    1.64  23.42\n",
      "    63    1.65  23.14\n",
      "    63    1.66  22.86\n",
      "    63    1.67  22.59\n",
      "    63    1.68  22.32\n",
      "    63    1.69  22.06\n",
      "    63    1.70  21.80\n",
      "    64    1.61  24.69\n",
      "    64    1.62  24.39\n",
      "    64    1.63  24.09\n",
      "    64    1.64  23.80\n",
      "    64    1.65  23.51\n",
      "    64    1.66  23.23\n",
      "    64    1.67  22.95\n",
      "    64    1.68  22.68\n",
      "    64    1.69  22.41\n",
      "    64    1.70  22.15\n",
      "    65    1.61  25.08\n",
      "    65    1.62  24.77\n",
      "    65    1.63  24.46\n",
      "    65    1.64  24.17\n",
      "    65    1.65  23.88\n",
      "    65    1.66  23.59\n",
      "    65    1.67  23.31\n",
      "    65    1.68  23.03\n",
      "    65    1.69  22.76\n",
      "    65    1.70  22.49\n",
      "    66    1.61  25.46\n",
      "    66    1.62  25.15\n",
      "    66    1.63  24.84\n",
      "    66    1.64  24.54\n",
      "    66    1.65  24.24\n",
      "    66    1.66  23.95\n",
      "    66    1.67  23.67\n",
      "    66    1.68  23.38\n",
      "    66    1.69  23.11\n",
      "    66    1.70  22.84\n",
      "    67    1.61  25.85\n",
      "    67    1.62  25.53\n",
      "    67    1.63  25.22\n",
      "    67    1.64  24.91\n",
      "    67    1.65  24.61\n",
      "    67    1.66  24.31\n",
      "    67    1.67  24.02\n",
      "    67    1.68  23.74\n",
      "    67    1.69  23.46\n",
      "    67    1.70  23.18\n",
      "    68    1.61  26.23\n",
      "    68    1.62  25.91\n",
      "    68    1.63  25.59\n",
      "    68    1.64  25.28\n",
      "    68    1.65  24.98\n",
      "    68    1.66  24.68\n",
      "    68    1.67  24.38\n",
      "    68    1.68  24.09\n",
      "    68    1.69  23.81\n",
      "    68    1.70  23.53\n",
      "    69    1.61  26.62\n",
      "    69    1.62  26.29\n",
      "    69    1.63  25.97\n",
      "    69    1.64  25.65\n",
      "    69    1.65  25.34\n",
      "    69    1.66  25.04\n",
      "    69    1.67  24.74\n",
      "    69    1.68  24.45\n",
      "    69    1.69  24.16\n",
      "    69    1.70  23.88\n",
      "    70    1.61  27.01\n",
      "    70    1.62  26.67\n",
      "    70    1.63  26.35\n",
      "    70    1.64  26.03\n",
      "    70    1.65  25.71\n",
      "    70    1.66  25.40\n",
      "    70    1.67  25.10\n",
      "    70    1.68  24.80\n",
      "    70    1.69  24.51\n",
      "    70    1.70  24.22\n"
     ]
    }
   ],
   "source": [
    "# Task 4\n",
    "ws = [w for w in range(61, 71)]\n",
    "hs = [h/100 for h in range(161, 171)]\n",
    "bmis = [(w, h, w/h**2) for w in ws for h in hs]\n",
    "\n",
    "print('Weight  Height    BMI')\n",
    "for (w, h, b) in bmis:\n",
    "    print('%6d  %6.2f  %.2f' %(w, h, b))"
   ]
  },
  {
   "cell_type": "code",
   "execution_count": null,
   "metadata": {},
   "outputs": [],
   "source": []
  }
 ],
 "metadata": {
  "kernelspec": {
   "display_name": "Python 3",
   "language": "python",
   "name": "python3"
  },
  "language_info": {
   "codemirror_mode": {
    "name": "ipython",
    "version": 3
   },
   "file_extension": ".py",
   "mimetype": "text/x-python",
   "name": "python",
   "nbconvert_exporter": "python",
   "pygments_lexer": "ipython3",
   "version": "3.7.3"
  },
  "pycharm": {
   "stem_cell": {
    "cell_type": "raw",
    "source": [],
    "metadata": {
     "collapsed": false
    }
   }
  }
 },
 "nbformat": 4,
 "nbformat_minor": 2
}